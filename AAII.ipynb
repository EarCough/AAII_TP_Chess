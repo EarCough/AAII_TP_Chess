{
  "nbformat": 4,
  "nbformat_minor": 0,
  "metadata": {
    "colab": {
      "name": "AAII.ipynb",
      "provenance": [],
      "collapsed_sections": [],
      "toc_visible": true
    },
    "kernelspec": {
      "display_name": "Python 3",
      "language": "python",
      "name": "python3"
    },
    "language_info": {
      "codemirror_mode": {
        "name": "ipython",
        "version": 3
      },
      "file_extension": ".py",
      "mimetype": "text/x-python",
      "name": "python",
      "nbconvert_exporter": "python",
      "pygments_lexer": "ipython3",
      "version": "3.8.5"
    }
  },
  "cells": [
    {
      "cell_type": "markdown",
      "metadata": {
        "id": "x3OyVQRKFRTC"
      },
      "source": [
        "# **Diogo Barroso Dias PG42825**\n",
        "# **Nelson Filipe Sá Costa PG44587**"
      ]
    },
    {
      "cell_type": "markdown",
      "metadata": {
        "id": "cjqrPsLNzl1O"
      },
      "source": [
        "# **Bibliotecas**"
      ]
    },
    {
      "cell_type": "code",
      "metadata": {
        "id": "1A-qQqpkJmdC"
      },
      "source": [
        "from mpl_toolkits.mplot3d import Axes3D\n",
        "from sklearn.preprocessing import StandardScaler\n",
        "from sklearn.preprocessing import LabelEncoder\n",
        "import matplotlib.pyplot as plt \n",
        "import numpy as np \n",
        "import os \n",
        "import pandas as pd \n",
        "import seaborn as sns\n",
        "np.set_printoptions(precision=4)\n",
        "from sklearn.metrics import accuracy_score, recall_score, precision_score , confusion_matrix\n",
        "from sklearn.inspection import permutation_importance\n",
        "from imblearn.over_sampling import SMOTE\n",
        "from itertools import combinations\n",
        "import warnings\n",
        "warnings.filterwarnings('ignore')"
      ],
      "execution_count": 25,
      "outputs": []
    },
    {
      "cell_type": "markdown",
      "metadata": {
        "id": "i1ioP3HywQ7B"
      },
      "source": [
        "# **Gráficos a ser usados**"
      ]
    },
    {
      "cell_type": "code",
      "metadata": {
        "id": "e3ax3Fiwz2Qe"
      },
      "source": [
        "def plot_bar(column, sort=False, title=\"all\"):\n",
        "    if sort:\n",
        "        data_all = cd[column].value_counts().sort_index()\n",
        "    else:\n",
        "        data_all = cd[column].value_counts()\n",
        "    plt.bar(data_all.index,data_all)\n",
        "    plt.title(title)\n",
        "    plt.show()\n",
        "\n",
        "def plot_pie(column, title=\"All\"):\n",
        "    fig,axs = plt.subplots(1,1)\n",
        "    data = cd[column].value_counts()\n",
        "    plt.pie(data,autopct='%1.2f%%',labels=data.index)\n",
        "    plt.title(title)\n",
        "    plt.show()\n",
        "\n",
        "def plot_hist(column, title=\"all\"):\n",
        "    plt.hist(cd[column],density=True)\n",
        "    plt.title(title)\n",
        "    plt.show()\n",
        "\n",
        "\n",
        "# Distribution graphs (histogram/bar graph) of column data\n",
        "def plotPerColumnDistribution(df, nGraphShown, nGraphPerRow):\n",
        "    nunique = df.nunique()\n",
        "    df = df[[col for col in df if nunique[col] > 1 and nunique[col] < 50]] # For displaying purposes, pick columns that have between 1 and 50 unique values\n",
        "    nRow, nCol = df.shape\n",
        "    columnNames = list(df)\n",
        "    nGraphRow = (nCol + nGraphPerRow - 1) / nGraphPerRow\n",
        "    plt.figure(num = None, figsize = (6 * nGraphPerRow, 8 * nGraphRow), dpi = 80, facecolor = 'w', edgecolor = 'k')\n",
        "    for i in range(min(nCol, nGraphShown)):\n",
        "        plt.subplot(nGraphRow, nGraphPerRow, i + 1)\n",
        "        columnDf = df.iloc[:, i]\n",
        "        if (not np.issubdtype(type(columnDf.iloc[0]), np.number)):\n",
        "            valueCounts = columnDf.value_counts()\n",
        "            valueCounts.plot.bar()\n",
        "        else:\n",
        "            columnDf.hist()\n",
        "        plt.ylabel('counts')\n",
        "        plt.xticks(rotation = 90)\n",
        "        plt.title(f'{columnNames[i]} (column {i})')\n",
        "    plt.tight_layout(pad = 1.0, w_pad = 1.0, h_pad = 1.0)\n",
        "    plt.show()\n",
        "\n",
        "# Correlation matrix\n",
        "def plotCorrelationMatrix(df, graphWidth):\n",
        "    df = df.dropna('columns') # drop columns with NaN\n",
        "    df = df[[col for col in df if df[col].nunique() > 1]] # keep columns where there are more than 1 unique values\n",
        "    if df.shape[1] < 2:\n",
        "        print(f'No correlation plots shown: The number of non-NaN or constant columns ({df.shape[1]}) is less than 2')\n",
        "        return\n",
        "    corr = df.corr()\n",
        "    plt.figure(num=None, figsize=(graphWidth, graphWidth), dpi=80, facecolor='w', edgecolor='k')\n",
        "    corrMat = plt.matshow(corr, fignum = 1)\n",
        "    plt.xticks(range(len(corr.columns)), corr.columns, rotation=90)\n",
        "    plt.yticks(range(len(corr.columns)), corr.columns)\n",
        "    plt.gca().xaxis.tick_bottom()\n",
        "    plt.colorbar(corrMat)\n",
        "    plt.show()\n",
        "\n",
        "# Scatter and density plots\n",
        "def plotScatterMatrix(df, plotSize, textSize):\n",
        "    df = df.select_dtypes(include =[np.number]) # keep only numerical columns\n",
        "    # Remove rows and columns that would lead to df being singular\n",
        "    df = df.dropna('columns')\n",
        "    df = df[[col for col in df if df[col].nunique() > 1]] # keep columns where there are more than 1 unique values\n",
        "    columnNames = list(df)\n",
        "    if len(columnNames) > 10: # reduce the number of columns for matrix inversion of kernel density plots\n",
        "        columnNames = columnNames[:10]\n",
        "    df = df[columnNames]\n",
        "    ax = pd.plotting.scatter_matrix(df, alpha=0.75, figsize=[plotSize, plotSize], diagonal='kde')\n",
        "    corrs = df.corr().values\n",
        "    for i, j in zip(*plt.np.triu_indices_from(ax, k = 1)):\n",
        "        ax[i, j].annotate('Corr. coef = %.3f' % corrs[i, j], (0.8, 0.2), xycoords='axes fraction', ha='center', va='center', size=textSize)\n",
        "    plt.suptitle('Scatter and Density Plot')\n",
        "    plt.show()"
      ],
      "execution_count": null,
      "outputs": []
    },
    {
      "cell_type": "markdown",
      "metadata": {
        "id": "2wIeShvuJrG3"
      },
      "source": [
        "\n",
        "# **Análise de Dados - $ Dataset$ $Chess$ $Game $**"
      ]
    },
    {
      "cell_type": "markdown",
      "metadata": {
        "id": "uLR1Zo-x2S0m"
      },
      "source": [
        "**Carregamento dos dados**"
      ]
    },
    {
      "cell_type": "code",
      "metadata": {
        "id": "PYXc32IXcALt"
      },
      "source": [
        "cd = pd.read_csv(\"./games.csv\")"
      ],
      "execution_count": 94,
      "outputs": []
    },
    {
      "cell_type": "markdown",
      "metadata": {
        "id": "icnxOCrfLtn_"
      },
      "source": [
        "# Análise Exploratória de Dados\n"
      ]
    },
    {
      "cell_type": "markdown",
      "metadata": {
        "id": "r3Zg2fhh29R2"
      },
      "source": [
        "**Informação Básica**"
      ]
    },
    {
      "cell_type": "markdown",
      "metadata": {
        "id": "89VZ13Lw2fC2"
      },
      "source": [
        "Size of Array and number of columns"
      ]
    },
    {
      "cell_type": "code",
      "metadata": {
        "colab": {
          "base_uri": "https://localhost:8080/"
        },
        "id": "T2qpE-qQcALu",
        "scrolled": false,
        "outputId": "44ba62a3-f478-4c19-b325-20a4257c9fb9"
      },
      "source": [
        "cd.shape"
      ],
      "execution_count": null,
      "outputs": [
        {
          "output_type": "execute_result",
          "data": {
            "text/plain": [
              "(20058, 16)"
            ]
          },
          "metadata": {
            "tags": []
          },
          "execution_count": 3
        }
      ]
    },
    {
      "cell_type": "markdown",
      "metadata": {
        "id": "Twsk5-B830tJ"
      },
      "source": [
        "Excerto de valores do dataset"
      ]
    },
    {
      "cell_type": "code",
      "metadata": {
        "colab": {
          "base_uri": "https://localhost:8080/",
          "height": 1000
        },
        "id": "IfbEB6E03L6g",
        "outputId": "1f98c67b-6b4f-490a-ac68-8d7feb86e000"
      },
      "source": [
        "cd.head()"
      ],
      "execution_count": null,
      "outputs": [
        {
          "output_type": "execute_result",
          "data": {
            "text/html": [
              "<div>\n",
              "<style scoped>\n",
              "    .dataframe tbody tr th:only-of-type {\n",
              "        vertical-align: middle;\n",
              "    }\n",
              "\n",
              "    .dataframe tbody tr th {\n",
              "        vertical-align: top;\n",
              "    }\n",
              "\n",
              "    .dataframe thead th {\n",
              "        text-align: right;\n",
              "    }\n",
              "</style>\n",
              "<table border=\"1\" class=\"dataframe\">\n",
              "  <thead>\n",
              "    <tr style=\"text-align: right;\">\n",
              "      <th></th>\n",
              "      <th>id</th>\n",
              "      <th>rated</th>\n",
              "      <th>created_at</th>\n",
              "      <th>last_move_at</th>\n",
              "      <th>turns</th>\n",
              "      <th>victory_status</th>\n",
              "      <th>winner</th>\n",
              "      <th>increment_code</th>\n",
              "      <th>white_id</th>\n",
              "      <th>white_rating</th>\n",
              "      <th>black_id</th>\n",
              "      <th>black_rating</th>\n",
              "      <th>moves</th>\n",
              "      <th>opening_eco</th>\n",
              "      <th>opening_name</th>\n",
              "      <th>opening_ply</th>\n",
              "    </tr>\n",
              "  </thead>\n",
              "  <tbody>\n",
              "    <tr>\n",
              "      <th>0</th>\n",
              "      <td>TZJHLljE</td>\n",
              "      <td>False</td>\n",
              "      <td>1.504210e+12</td>\n",
              "      <td>1.504210e+12</td>\n",
              "      <td>13</td>\n",
              "      <td>outoftime</td>\n",
              "      <td>white</td>\n",
              "      <td>15+2</td>\n",
              "      <td>bourgris</td>\n",
              "      <td>1500</td>\n",
              "      <td>a-00</td>\n",
              "      <td>1191</td>\n",
              "      <td>d4 d5 c4 c6 cxd5 e6 dxe6 fxe6 Nf3 Bb4+ Nc3 Ba5...</td>\n",
              "      <td>D10</td>\n",
              "      <td>Slav Defense: Exchange Variation</td>\n",
              "      <td>5</td>\n",
              "    </tr>\n",
              "    <tr>\n",
              "      <th>1</th>\n",
              "      <td>l1NXvwaE</td>\n",
              "      <td>True</td>\n",
              "      <td>1.504130e+12</td>\n",
              "      <td>1.504130e+12</td>\n",
              "      <td>16</td>\n",
              "      <td>resign</td>\n",
              "      <td>black</td>\n",
              "      <td>5+10</td>\n",
              "      <td>a-00</td>\n",
              "      <td>1322</td>\n",
              "      <td>skinnerua</td>\n",
              "      <td>1261</td>\n",
              "      <td>d4 Nc6 e4 e5 f4 f6 dxe5 fxe5 fxe5 Nxe5 Qd4 Nc6...</td>\n",
              "      <td>B00</td>\n",
              "      <td>Nimzowitsch Defense: Kennedy Variation</td>\n",
              "      <td>4</td>\n",
              "    </tr>\n",
              "    <tr>\n",
              "      <th>2</th>\n",
              "      <td>mIICvQHh</td>\n",
              "      <td>True</td>\n",
              "      <td>1.504130e+12</td>\n",
              "      <td>1.504130e+12</td>\n",
              "      <td>61</td>\n",
              "      <td>mate</td>\n",
              "      <td>white</td>\n",
              "      <td>5+10</td>\n",
              "      <td>ischia</td>\n",
              "      <td>1496</td>\n",
              "      <td>a-00</td>\n",
              "      <td>1500</td>\n",
              "      <td>e4 e5 d3 d6 Be3 c6 Be2 b5 Nd2 a5 a4 c5 axb5 Nc...</td>\n",
              "      <td>C20</td>\n",
              "      <td>King's Pawn Game: Leonardis Variation</td>\n",
              "      <td>3</td>\n",
              "    </tr>\n",
              "    <tr>\n",
              "      <th>3</th>\n",
              "      <td>kWKvrqYL</td>\n",
              "      <td>True</td>\n",
              "      <td>1.504110e+12</td>\n",
              "      <td>1.504110e+12</td>\n",
              "      <td>61</td>\n",
              "      <td>mate</td>\n",
              "      <td>white</td>\n",
              "      <td>20+0</td>\n",
              "      <td>daniamurashov</td>\n",
              "      <td>1439</td>\n",
              "      <td>adivanov2009</td>\n",
              "      <td>1454</td>\n",
              "      <td>d4 d5 Nf3 Bf5 Nc3 Nf6 Bf4 Ng4 e3 Nc6 Be2 Qd7 O...</td>\n",
              "      <td>D02</td>\n",
              "      <td>Queen's Pawn Game: Zukertort Variation</td>\n",
              "      <td>3</td>\n",
              "    </tr>\n",
              "    <tr>\n",
              "      <th>4</th>\n",
              "      <td>9tXo1AUZ</td>\n",
              "      <td>True</td>\n",
              "      <td>1.504030e+12</td>\n",
              "      <td>1.504030e+12</td>\n",
              "      <td>95</td>\n",
              "      <td>mate</td>\n",
              "      <td>white</td>\n",
              "      <td>30+3</td>\n",
              "      <td>nik221107</td>\n",
              "      <td>1523</td>\n",
              "      <td>adivanov2009</td>\n",
              "      <td>1469</td>\n",
              "      <td>e4 e5 Nf3 d6 d4 Nc6 d5 Nb4 a3 Na6 Nc3 Be7 b4 N...</td>\n",
              "      <td>C41</td>\n",
              "      <td>Philidor Defense</td>\n",
              "      <td>5</td>\n",
              "    </tr>\n",
              "  </tbody>\n",
              "</table>\n",
              "</div>"
            ],
            "text/plain": [
              "         id  rated  ...                            opening_name  opening_ply\n",
              "0  TZJHLljE  False  ...        Slav Defense: Exchange Variation            5\n",
              "1  l1NXvwaE   True  ...  Nimzowitsch Defense: Kennedy Variation            4\n",
              "2  mIICvQHh   True  ...   King's Pawn Game: Leonardis Variation            3\n",
              "3  kWKvrqYL   True  ...  Queen's Pawn Game: Zukertort Variation            3\n",
              "4  9tXo1AUZ   True  ...                        Philidor Defense            5\n",
              "\n",
              "[5 rows x 16 columns]"
            ]
          },
          "metadata": {
            "tags": []
          },
          "execution_count": 4
        }
      ]
    },
    {
      "cell_type": "markdown",
      "metadata": {
        "id": "ISNnADZ3646L"
      },
      "source": [
        "\n",
        "\n",
        "*   **id**: identificação da partida\n",
        "*   **rated**: identifica se a partida conta para o rating\n",
        "*   **created_at**: quando o jogo começou\n",
        "*   **last_move_at**: quando o jogo acabou\n",
        "*   **turns**: número de turnos que a partida teve\n",
        "*   **victory_status**: tipo de resultado da partida (empate, check mate, desistiu)\n",
        "*   **winner**: indica o vencedor, ou se não houve, o empate\n",
        "*   **increment_code**: número de segundos que são adicionados ao tempo depois de uma jogada\n",
        "\n",
        "*   **white_id**: identificação do jogador das peças brancas\n",
        "\n",
        "*   **white_rating**: classificação do jogador das peças brancas\n",
        "\n",
        "*   **black_id**: identificação do jogador das peças pretas\n",
        "*   **black_rating**: classificação do jogador das peças pretas\n",
        "\n",
        "\n",
        "*   **moves**: todas as jogadas em notação de xadrex\n",
        "\n",
        "\n",
        "*   **opening_eco**: código que representa uma opening (movimento de abertura) em xadrex ([lista de todas as openings)](https://www.365chess.com/eco.php)\n",
        "\n",
        "\n",
        "*   **opening_name**: nome do movimento de abertura\n",
        "*   **opening_ply**: número de jogadas na fase de opening\n",
        "\n",
        "\n",
        "\n"
      ]
    },
    {
      "cell_type": "markdown",
      "metadata": {
        "id": "N-iiD1r6JFJ6"
      },
      "source": [
        "Verificar se existem *Missing Values* em cada coluna\n",
        "\n",
        "(Se um atributo está 100% populado, não existem missing values)\n",
        "\n"
      ]
    },
    {
      "cell_type": "code",
      "metadata": {
        "colab": {
          "base_uri": "https://localhost:8080/"
        },
        "id": "e7SnXKYlOE-f",
        "outputId": "d1755b4c-059e-41bc-b066-9eecd38f71e5"
      },
      "source": [
        "cd = cd.replace(r'^\\s*$', np.NaN, regex=True)\n",
        "\n",
        "print(\"Verifica o quanto populados as colunas estão:\")\n",
        "total_rows = len(cd)\n",
        "for column in cd.columns:\n",
        "    missing_values = cd[column].isnull().sum()\n",
        "    print(column, \"está populado: \", (total_rows - missing_values) / total_rows * 100, \"%\")"
      ],
      "execution_count": 95,
      "outputs": [
        {
          "output_type": "stream",
          "text": [
            "Verifica o quanto populados as colunas estão:\n",
            "id está populado:  100.0 %\n",
            "rated está populado:  100.0 %\n",
            "created_at está populado:  100.0 %\n",
            "last_move_at está populado:  100.0 %\n",
            "turns está populado:  100.0 %\n",
            "victory_status está populado:  100.0 %\n",
            "winner está populado:  100.0 %\n",
            "increment_code está populado:  100.0 %\n",
            "white_id está populado:  100.0 %\n",
            "white_rating está populado:  100.0 %\n",
            "black_id está populado:  100.0 %\n",
            "black_rating está populado:  100.0 %\n",
            "moves está populado:  100.0 %\n",
            "opening_eco está populado:  100.0 %\n",
            "opening_name está populado:  100.0 %\n",
            "opening_ply está populado:  100.0 %\n"
          ],
          "name": "stdout"
        }
      ]
    },
    {
      "cell_type": "markdown",
      "metadata": {
        "id": "IFDz6Hk_2G3m"
      },
      "source": [
        "Indica o número de jogos com o id duplicado\n",
        "\n"
      ]
    },
    {
      "cell_type": "code",
      "metadata": {
        "id": "Os1P1r4wyHhL",
        "colab": {
          "base_uri": "https://localhost:8080/"
        },
        "outputId": "70ed7bf5-9788-4b5d-f91a-214ec288b816"
      },
      "source": [
        "dupe = cd.duplicated(subset=['id'])\n",
        "sum(dupe)"
      ],
      "execution_count": 96,
      "outputs": [
        {
          "output_type": "execute_result",
          "data": {
            "text/plain": [
              "945"
            ]
          },
          "metadata": {
            "tags": []
          },
          "execution_count": 96
        }
      ]
    },
    {
      "cell_type": "markdown",
      "metadata": {
        "id": "0Qip7-lZ2fAb"
      },
      "source": [
        "Remove os jogos duplicados pelo id"
      ]
    },
    {
      "cell_type": "code",
      "metadata": {
        "id": "8v9crM58zj3Y"
      },
      "source": [
        "cd = cd.drop_duplicates(subset=['id'])"
      ],
      "execution_count": 97,
      "outputs": []
    },
    {
      "cell_type": "markdown",
      "metadata": {
        "id": "IiO0ilf53ldy"
      },
      "source": [
        "Verifica a *uniqueness* das features"
      ]
    },
    {
      "cell_type": "code",
      "metadata": {
        "colab": {
          "base_uri": "https://localhost:8080/"
        },
        "id": "u5aBQmChxieY",
        "outputId": "b144f935-e8c9-452a-a43f-fbeadcc9451c"
      },
      "source": [
        "for column in cd.columns:\n",
        "      if cd[column].is_unique:\n",
        "          print(column, \"is unique: 100%\")\n",
        "      else:\n",
        "          comp1 = len(cd[column]) # número de linhas\n",
        "          comp2 = len(cd[column].drop_duplicates(keep=False))\n",
        "          print(column, \"is unique: \", comp2/comp1 * 100, \"%\")"
      ],
      "execution_count": 98,
      "outputs": [
        {
          "output_type": "stream",
          "text": [
            "id is unique: 100%\n",
            "rated is unique:  0.0 %\n",
            "created_at is unique:  56.908910165855694 %\n",
            "last_move_at is unique:  57.21760058598859 %\n",
            "turns is unique:  0.1046408203840318 %\n",
            "victory_status is unique:  0.0 %\n",
            "winner is unique:  0.0 %\n",
            "increment_code is unique:  0.5075079788625543 %\n",
            "white_id is unique:  39.41296499764558 %\n",
            "white_rating is unique:  0.7900381938994401 %\n",
            "black_id is unique:  39.04149008528227 %\n",
            "black_rating is unique:  0.8475906451106577 %\n",
            "moves is unique:  98.72861403233402 %\n",
            "opening_eco is unique:  0.26683409197928115 %\n",
            "opening_name is unique:  2.0666562025846282 %\n",
            "opening_ply is unique:  0.010464082038403181 %\n"
          ],
          "name": "stdout"
        }
      ]
    },
    {
      "cell_type": "markdown",
      "metadata": {
        "id": "7B32UEHd3yC3"
      },
      "source": [
        "Informações a retirar:\n",
        "\n",
        "*   39% dos jogadores só jogaram uma vez de peças brancas ou só uma vez de peças pretas.\n",
        "*   98% das jogadas ('moves') foram únicas, ou seja, em 2% dos jogos há partidas que tiveram moves iguais a outros.\n",
        "\n",
        "*   2% de Movimentos de Abertura ('opening_name') são únicos, só foram jogados uma vez no historial de 20k jogos.\n",
        "\n",
        "\n"
      ]
    },
    {
      "cell_type": "markdown",
      "metadata": {
        "id": "neyM0Hhos3Tt"
      },
      "source": [
        "**Estatísticas dos dados**"
      ]
    },
    {
      "cell_type": "code",
      "metadata": {
        "colab": {
          "base_uri": "https://localhost:8080/",
          "height": 297
        },
        "id": "_83E_5VnQsLx",
        "outputId": "3a11208a-ba64-43be-ace0-5ce692c18c7a"
      },
      "source": [
        "cd.describe()"
      ],
      "execution_count": null,
      "outputs": [
        {
          "output_type": "execute_result",
          "data": {
            "text/html": [
              "<div>\n",
              "<style scoped>\n",
              "    .dataframe tbody tr th:only-of-type {\n",
              "        vertical-align: middle;\n",
              "    }\n",
              "\n",
              "    .dataframe tbody tr th {\n",
              "        vertical-align: top;\n",
              "    }\n",
              "\n",
              "    .dataframe thead th {\n",
              "        text-align: right;\n",
              "    }\n",
              "</style>\n",
              "<table border=\"1\" class=\"dataframe\">\n",
              "  <thead>\n",
              "    <tr style=\"text-align: right;\">\n",
              "      <th></th>\n",
              "      <th>created_at</th>\n",
              "      <th>last_move_at</th>\n",
              "      <th>turns</th>\n",
              "      <th>white_rating</th>\n",
              "      <th>black_rating</th>\n",
              "      <th>opening_ply</th>\n",
              "    </tr>\n",
              "  </thead>\n",
              "  <tbody>\n",
              "    <tr>\n",
              "      <th>count</th>\n",
              "      <td>1.911300e+04</td>\n",
              "      <td>1.911300e+04</td>\n",
              "      <td>19113.000000</td>\n",
              "      <td>19113.000000</td>\n",
              "      <td>19113.000000</td>\n",
              "      <td>19113.000000</td>\n",
              "    </tr>\n",
              "    <tr>\n",
              "      <th>mean</th>\n",
              "      <td>1.483413e+12</td>\n",
              "      <td>1.483414e+12</td>\n",
              "      <td>60.513839</td>\n",
              "      <td>1597.300005</td>\n",
              "      <td>1590.045519</td>\n",
              "      <td>4.815780</td>\n",
              "    </tr>\n",
              "    <tr>\n",
              "      <th>std</th>\n",
              "      <td>2.833975e+10</td>\n",
              "      <td>2.833964e+10</td>\n",
              "      <td>33.488264</td>\n",
              "      <td>290.022740</td>\n",
              "      <td>290.441694</td>\n",
              "      <td>2.798283</td>\n",
              "    </tr>\n",
              "    <tr>\n",
              "      <th>min</th>\n",
              "      <td>1.376772e+12</td>\n",
              "      <td>1.376772e+12</td>\n",
              "      <td>1.000000</td>\n",
              "      <td>784.000000</td>\n",
              "      <td>789.000000</td>\n",
              "      <td>1.000000</td>\n",
              "    </tr>\n",
              "    <tr>\n",
              "      <th>25%</th>\n",
              "      <td>1.476910e+12</td>\n",
              "      <td>1.476912e+12</td>\n",
              "      <td>37.000000</td>\n",
              "      <td>1401.000000</td>\n",
              "      <td>1394.000000</td>\n",
              "      <td>3.000000</td>\n",
              "    </tr>\n",
              "    <tr>\n",
              "      <th>50%</th>\n",
              "      <td>1.495670e+12</td>\n",
              "      <td>1.495670e+12</td>\n",
              "      <td>55.000000</td>\n",
              "      <td>1567.000000</td>\n",
              "      <td>1563.000000</td>\n",
              "      <td>4.000000</td>\n",
              "    </tr>\n",
              "    <tr>\n",
              "      <th>75%</th>\n",
              "      <td>1.503080e+12</td>\n",
              "      <td>1.503080e+12</td>\n",
              "      <td>79.000000</td>\n",
              "      <td>1792.000000</td>\n",
              "      <td>1785.000000</td>\n",
              "      <td>6.000000</td>\n",
              "    </tr>\n",
              "    <tr>\n",
              "      <th>max</th>\n",
              "      <td>1.504493e+12</td>\n",
              "      <td>1.504494e+12</td>\n",
              "      <td>349.000000</td>\n",
              "      <td>2700.000000</td>\n",
              "      <td>2723.000000</td>\n",
              "      <td>28.000000</td>\n",
              "    </tr>\n",
              "  </tbody>\n",
              "</table>\n",
              "</div>"
            ],
            "text/plain": [
              "         created_at  last_move_at  ...  black_rating   opening_ply\n",
              "count  1.911300e+04  1.911300e+04  ...  19113.000000  19113.000000\n",
              "mean   1.483413e+12  1.483414e+12  ...   1590.045519      4.815780\n",
              "std    2.833975e+10  2.833964e+10  ...    290.441694      2.798283\n",
              "min    1.376772e+12  1.376772e+12  ...    789.000000      1.000000\n",
              "25%    1.476910e+12  1.476912e+12  ...   1394.000000      3.000000\n",
              "50%    1.495670e+12  1.495670e+12  ...   1563.000000      4.000000\n",
              "75%    1.503080e+12  1.503080e+12  ...   1785.000000      6.000000\n",
              "max    1.504493e+12  1.504494e+12  ...   2723.000000     28.000000\n",
              "\n",
              "[8 rows x 6 columns]"
            ]
          },
          "metadata": {
            "tags": []
          },
          "execution_count": 12
        }
      ]
    },
    {
      "cell_type": "markdown",
      "metadata": {
        "id": "6FzT1yVdIBs4"
      },
      "source": [
        "*Descrição estatística da variável* ***turns***\n",
        "\n",
        "São consideradas partidas com poucas jogadas, aquelas que têm menos de 37 turnos\n",
        "\n",
        "A maior parte das partidas tem entre 37 a 79 turnos\n",
        "\n",
        "A partir de 79 para cima já são partidas com uma quantidade de turnos maior que a média"
      ]
    },
    {
      "cell_type": "markdown",
      "metadata": {
        "id": "4DBMgh4T1307"
      },
      "source": [
        "*Descrição estatística das variáveis* ***rating***\n",
        "\n",
        "Como é possível verificar pelos valores, as estatísticas de white_rating e black_rating são muito semelhantes. Assim conseguimos tirar as seguintes conclusões:\n",
        "\n",
        "**Classificação Baixa**: Rating menor que 1401\n",
        "\n",
        "**Classificação Mais Frequente**: Entre 1401 e 1792\n",
        "\n",
        "**Classificação Alta**: Maior que 1792\n",
        "\n"
      ]
    },
    {
      "cell_type": "markdown",
      "metadata": {
        "id": "-vhaNkXAtfHq"
      },
      "source": [
        "**Quantidade exata de jogos ranked/competitivos e casuais**\n",
        "\n",
        "**true**: ranked\n",
        "\n",
        "**false**: casual"
      ]
    },
    {
      "cell_type": "code",
      "metadata": {
        "colab": {
          "base_uri": "https://localhost:8080/"
        },
        "id": "Mun41XpqtEMy",
        "outputId": "83f3fd9f-ede0-4832-f78a-ddb90c9efe0d"
      },
      "source": [
        "cd['rated'].value_counts()"
      ],
      "execution_count": null,
      "outputs": [
        {
          "output_type": "execute_result",
          "data": {
            "text/plain": [
              "True     15467\n",
              "False     3646\n",
              "Name: rated, dtype: int64"
            ]
          },
          "metadata": {
            "tags": []
          },
          "execution_count": 11
        }
      ]
    },
    {
      "cell_type": "markdown",
      "metadata": {
        "id": "G7tcASy0xvXZ"
      },
      "source": [
        "**Quantidade exata de vitórias ou empates**"
      ]
    },
    {
      "cell_type": "code",
      "metadata": {
        "colab": {
          "base_uri": "https://localhost:8080/"
        },
        "id": "Ck6_1D3HxrR3",
        "outputId": "f899cef2-6fe1-4d7b-bb59-82997dcb4da0"
      },
      "source": [
        "cd['winner'].value_counts()"
      ],
      "execution_count": null,
      "outputs": [
        {
          "output_type": "execute_result",
          "data": {
            "text/plain": [
              "white    9545\n",
              "black    8680\n",
              "draw      888\n",
              "Name: winner, dtype: int64"
            ]
          },
          "metadata": {
            "tags": []
          },
          "execution_count": 13
        }
      ]
    },
    {
      "cell_type": "markdown",
      "metadata": {
        "id": "9uHVnrlI1FS8"
      },
      "source": [
        "**Os 10 jogadores que jogaram mais vezes com as peças brancas**"
      ]
    },
    {
      "cell_type": "code",
      "metadata": {
        "colab": {
          "base_uri": "https://localhost:8080/"
        },
        "id": "8q8kn1GSIOuO",
        "outputId": "e15308af-fee5-456c-84c0-e305edb455ce"
      },
      "source": [
        "cd['white_id'].value_counts().head(10)"
      ],
      "execution_count": null,
      "outputs": [
        {
          "output_type": "execute_result",
          "data": {
            "text/plain": [
              "ssf7             48\n",
              "bleda            48\n",
              "hassan1365416    44\n",
              "khelil           41\n",
              "1240100948       38\n",
              "ozguragarr       38\n",
              "ivanbus          36\n",
              "vovkakuz         35\n",
              "islam01          31\n",
              "ozil17           30\n",
              "Name: white_id, dtype: int64"
            ]
          },
          "metadata": {
            "tags": []
          },
          "execution_count": 14
        }
      ]
    },
    {
      "cell_type": "markdown",
      "metadata": {
        "id": "Fi1Ra4qf1SiH"
      },
      "source": [
        "**Os 10 jogadores que jogaram mais vezes com as peças pretas**"
      ]
    },
    {
      "cell_type": "code",
      "metadata": {
        "colab": {
          "base_uri": "https://localhost:8080/"
        },
        "id": "BdGGK51Af30g",
        "outputId": "fe4df30f-25b0-4ab2-b8b1-7fead2637102"
      },
      "source": [
        "cd['black_id'].value_counts().head(10)"
      ],
      "execution_count": null,
      "outputs": [
        {
          "output_type": "execute_result",
          "data": {
            "text/plain": [
              "docboss               44\n",
              "cape217               38\n",
              "amanan                33\n",
              "erikweisz             31\n",
              "vladimir-kramnik-1    30\n",
              "jdbarger              30\n",
              "blazingdragon         29\n",
              "pat222                29\n",
              "dipset                29\n",
              "andreas00             29\n",
              "Name: black_id, dtype: int64"
            ]
          },
          "metadata": {
            "tags": []
          },
          "execution_count": 15
        }
      ]
    },
    {
      "cell_type": "markdown",
      "metadata": {
        "id": "sqNPZDrqiXH3"
      },
      "source": [
        "**Os códigos dos 10 movimentos de abertura mais usados**"
      ]
    },
    {
      "cell_type": "code",
      "metadata": {
        "colab": {
          "base_uri": "https://localhost:8080/"
        },
        "id": "GzuWLgmgJmWg",
        "outputId": "daddf58a-8a30-42e3-8da9-cac8adfead14"
      },
      "source": [
        "cd['opening_eco'].value_counts().head(10)"
      ],
      "execution_count": null,
      "outputs": [
        {
          "output_type": "execute_result",
          "data": {
            "text/plain": [
              "A00    948\n",
              "C00    810\n",
              "D00    701\n",
              "B01    688\n",
              "C41    650\n",
              "C20    646\n",
              "A40    606\n",
              "B00    574\n",
              "B20    551\n",
              "C50    500\n",
              "Name: opening_eco, dtype: int64"
            ]
          },
          "metadata": {
            "tags": []
          },
          "execution_count": 38
        }
      ]
    },
    {
      "cell_type": "markdown",
      "metadata": {
        "id": "quiZOpRtixOf"
      },
      "source": [
        "**O nome dos 10 movimentos de abertura mais usados**"
      ]
    },
    {
      "cell_type": "code",
      "metadata": {
        "colab": {
          "base_uri": "https://localhost:8080/"
        },
        "id": "WxPcSi_7J03J",
        "outputId": "628da9d0-bdd4-43fa-b54d-f5d35caad323"
      },
      "source": [
        "cd['opening_name'].value_counts().head(10)"
      ],
      "execution_count": null,
      "outputs": [
        {
          "output_type": "execute_result",
          "data": {
            "text/plain": [
              "Sicilian Defense                                 349\n",
              "Van't Kruijs Opening                             342\n",
              "Sicilian Defense: Bowdler Attack                 290\n",
              "French Defense: Knight Variation                 260\n",
              "Scotch Game                                      254\n",
              "Scandinavian Defense: Mieses-Kotroc Variation    247\n",
              "Queen's Pawn Game: Mason Attack                  227\n",
              "Queen's Pawn Game: Chigorin Variation            217\n",
              "Scandinavian Defense                             217\n",
              "Horwitz Defense                                  208\n",
              "Name: opening_name, dtype: int64"
            ]
          },
          "metadata": {
            "tags": []
          },
          "execution_count": 39
        }
      ]
    },
    {
      "cell_type": "markdown",
      "metadata": {
        "id": "uwk9OphOyIGo"
      },
      "source": [
        "# **Exploração Gráfica dos dados**"
      ]
    },
    {
      "cell_type": "markdown",
      "metadata": {
        "id": "n5zpiWH2IGvG"
      },
      "source": [
        "**Percentagem de jogos ranked e casuais**\n",
        "\n",
        "Jogos competitivos (true) e jogos casuais (false)"
      ]
    },
    {
      "cell_type": "code",
      "metadata": {
        "colab": {
          "base_uri": "https://localhost:8080/",
          "height": 264
        },
        "id": "pPYFDY-jqjac",
        "outputId": "f1a5755e-eda9-4918-bd2e-fa0ca8b0c561"
      },
      "source": [
        "plot_pie('rated')"
      ],
      "execution_count": null,
      "outputs": [
        {
          "output_type": "display_data",
          "data": {
            "image/png": "[encoded data removed]",
            "text/plain": [
              "<Figure size 432x288 with 1 Axes>"
            ]
          },
          "metadata": {
            "tags": []
          }
        }
      ]
    },
    {
      "cell_type": "markdown",
      "metadata": {
        "id": "-vfRYpvgvM9v"
      },
      "source": [
        "**Frequência dos Turnos**"
      ]
    },
    {
      "cell_type": "code",
      "metadata": {
        "colab": {
          "base_uri": "https://localhost:8080/",
          "height": 282
        },
        "id": "qFapqry8cALw",
        "outputId": "43f0bc83-3231-49bc-960e-2b12d6c7c495"
      },
      "source": [
        "cd['turns'].plot(kind='hist')"
      ],
      "execution_count": null,
      "outputs": [
        {
          "output_type": "execute_result",
          "data": {
            "text/plain": [
              "<matplotlib.axes._subplots.AxesSubplot at 0x7f297d5f6890>"
            ]
          },
          "metadata": {
            "tags": []
          },
          "execution_count": 34
        },
        {
          "output_type": "display_data",
          "data": {
            "image/png": "[encoded data removed]",
            "text/plain": [
              "<Figure size 432x288 with 1 Axes>"
            ]
          },
          "metadata": {
            "tags": [],
            "needs_background": "light"
          }
        }
      ]
    },
    {
      "cell_type": "markdown",
      "metadata": {
        "id": "BieZAx_6H7hn"
      },
      "source": [
        "**Frequência de cada tipo de resultado de uma partida**"
      ]
    },
    {
      "cell_type": "code",
      "metadata": {
        "colab": {
          "base_uri": "https://localhost:8080/",
          "height": 281
        },
        "id": "A1Le5hRkIPAt",
        "outputId": "12580428-a379-4f6d-938b-0ebaf668063f"
      },
      "source": [
        "plot_bar('victory_status')"
      ],
      "execution_count": null,
      "outputs": [
        {
          "output_type": "display_data",
          "data": {
            "image/png": "[encoded data removed]",
            "text/plain": [
              "<Figure size 432x288 with 1 Axes>"
            ]
          },
          "metadata": {
            "tags": [],
            "needs_background": "light"
          }
        }
      ]
    },
    {
      "cell_type": "markdown",
      "metadata": {
        "id": "ZDI4a0dIvmVT"
      },
      "source": [
        "**Percentagem de cada tipo de resultado de uma partida**"
      ]
    },
    {
      "cell_type": "code",
      "metadata": {
        "colab": {
          "base_uri": "https://localhost:8080/",
          "height": 264
        },
        "id": "FlZBEbJIJQGm",
        "outputId": "f90b8fd3-a0e8-4f96-8df7-36459a1c3e80"
      },
      "source": [
        "plot_pie('victory_status')"
      ],
      "execution_count": null,
      "outputs": [
        {
          "output_type": "display_data",
          "data": {
            "image/png": "[encoded data removed]",
            "text/plain": [
              "<Figure size 432x288 with 1 Axes>"
            ]
          },
          "metadata": {
            "tags": []
          }
        }
      ]
    },
    {
      "cell_type": "markdown",
      "metadata": {
        "id": "gIlBkMw6HzuF"
      },
      "source": [
        "**Frequência de vitórias de cada peça, ou então se for o caso de empate**"
      ]
    },
    {
      "cell_type": "code",
      "metadata": {
        "colab": {
          "base_uri": "https://localhost:8080/",
          "height": 281
        },
        "id": "eicNiCBoHoeT",
        "outputId": "6d536b85-1aea-4832-fabf-71f0c566c0f6"
      },
      "source": [
        "plot_bar('winner')"
      ],
      "execution_count": null,
      "outputs": [
        {
          "output_type": "display_data",
          "data": {
            "image/png": "[encoded data removed]",
            "text/plain": [
              "<Figure size 432x288 with 1 Axes>"
            ]
          },
          "metadata": {
            "tags": [],
            "needs_background": "light"
          }
        }
      ]
    },
    {
      "cell_type": "markdown",
      "metadata": {
        "id": "4vxO-8hSwC2L"
      },
      "source": [
        "**Percentagem de vitórias de cada peça, ou então se for o caso de empate**"
      ]
    },
    {
      "cell_type": "code",
      "metadata": {
        "colab": {
          "base_uri": "https://localhost:8080/",
          "height": 264
        },
        "id": "zsqhbgD4HrGL",
        "outputId": "48210d72-8b03-45ea-a976-2f7f572f8049"
      },
      "source": [
        "plot_pie('winner')"
      ],
      "execution_count": null,
      "outputs": [
        {
          "output_type": "display_data",
          "data": {
            "image/png": "[encoded data removed]",
            "text/plain": [
              "<Figure size 432x288 with 1 Axes>"
            ]
          },
          "metadata": {
            "tags": []
          }
        }
      ]
    },
    {
      "cell_type": "markdown",
      "metadata": {
        "id": "TuyCrrsuIe75"
      },
      "source": [
        "**Frequência de white_rating**"
      ]
    },
    {
      "cell_type": "code",
      "metadata": {
        "colab": {
          "base_uri": "https://localhost:8080/",
          "height": 282
        },
        "id": "-eN3BovrIpfo",
        "outputId": "5fd39bce-7ca8-471f-cdf4-6e99e122ca32"
      },
      "source": [
        "cd['white_rating'].plot(kind='hist')"
      ],
      "execution_count": null,
      "outputs": [
        {
          "output_type": "execute_result",
          "data": {
            "text/plain": [
              "<matplotlib.axes._subplots.AxesSubplot at 0x7f297d86a410>"
            ]
          },
          "metadata": {
            "tags": []
          },
          "execution_count": 36
        },
        {
          "output_type": "display_data",
          "data": {
            "image/png": "[encoded data removed]",
            "text/plain": [
              "<Figure size 432x288 with 1 Axes>"
            ]
          },
          "metadata": {
            "tags": [],
            "needs_background": "light"
          }
        }
      ]
    },
    {
      "cell_type": "markdown",
      "metadata": {
        "id": "OWE0ydK4JR9N"
      },
      "source": [
        "**Frequência de black_rating**"
      ]
    },
    {
      "cell_type": "code",
      "metadata": {
        "colab": {
          "base_uri": "https://localhost:8080/",
          "height": 282
        },
        "id": "neT-uA6gJbLd",
        "outputId": "c572b5a6-0788-47fb-9a5f-eb0c2ee9995c"
      },
      "source": [
        "cd['black_rating'].plot(kind='hist')"
      ],
      "execution_count": null,
      "outputs": [
        {
          "output_type": "execute_result",
          "data": {
            "text/plain": [
              "<matplotlib.axes._subplots.AxesSubplot at 0x7f297d65b1d0>"
            ]
          },
          "metadata": {
            "tags": []
          },
          "execution_count": 35
        },
        {
          "output_type": "display_data",
          "data": {
            "image/png": "[encoded data removed]",
            "text/plain": [
              "<Figure size 432x288 with 1 Axes>"
            ]
          },
          "metadata": {
            "tags": [],
            "needs_background": "light"
          }
        }
      ]
    },
    {
      "cell_type": "markdown",
      "metadata": {
        "id": "pDQmOIMtJ_S-"
      },
      "source": [
        "**Frequência do número de jogadas num movimento de abertura de uma partida**"
      ]
    },
    {
      "cell_type": "code",
      "metadata": {
        "colab": {
          "base_uri": "https://localhost:8080/",
          "height": 285
        },
        "id": "ZgpBjPG2KT3V",
        "outputId": "dc173b76-10fe-467f-b4a3-e8631ad84a82"
      },
      "source": [
        "cd['opening_ply'].plot(kind='hist')"
      ],
      "execution_count": null,
      "outputs": [
        {
          "output_type": "execute_result",
          "data": {
            "text/plain": [
              "<matplotlib.axes._subplots.AxesSubplot at 0x7f297dae9150>"
            ]
          },
          "metadata": {
            "tags": []
          },
          "execution_count": 40
        },
        {
          "output_type": "display_data",
          "data": {
            "image/png": "[encoded data removed]",
            "text/plain": [
              "<Figure size 432x288 with 1 Axes>"
            ]
          },
          "metadata": {
            "tags": [],
            "needs_background": "light"
          }
        }
      ]
    },
    {
      "cell_type": "markdown",
      "metadata": {
        "id": "iP_f83rDjNz6"
      },
      "source": [
        "Exemplo de função para criar vários histogramas\n"
      ]
    },
    {
      "cell_type": "code",
      "metadata": {
        "colab": {
          "base_uri": "https://localhost:8080/",
          "height": 677
        },
        "id": "xp68yHOocALy",
        "outputId": "de6d6e79-5ebc-46c6-dd69-5d171329db0d"
      },
      "source": [
        "plotPerColumnDistribution(cd, 10, 9)"
      ],
      "execution_count": null,
      "outputs": [
        {
          "output_type": "display_data",
          "data": {
            "image/png": "[encoded data removed]",
            "text/plain": [
              "<Figure size 4320x853.333 with 4 Axes>"
            ]
          },
          "metadata": {
            "tags": []
          }
        }
      ]
    },
    {
      "cell_type": "markdown",
      "metadata": {
        "id": "mvR2nXcpjxHh"
      },
      "source": [
        "**Matriz de Correlação**"
      ]
    },
    {
      "cell_type": "code",
      "metadata": {
        "colab": {
          "base_uri": "https://localhost:8080/",
          "height": 564
        },
        "id": "N9lRXI0SDNRw",
        "outputId": "f932f7c7-78b1-4ac5-e04b-5dd5cd0b7dd5"
      },
      "source": [
        "plotCorrelationMatrix(cd, 8)"
      ],
      "execution_count": null,
      "outputs": [
        {
          "output_type": "display_data",
          "data": {
            "image/png": "[encoded data removed]",
            "text/plain": [
              "<Figure size 640x640 with 2 Axes>"
            ]
          },
          "metadata": {
            "tags": []
          }
        }
      ]
    },
    {
      "cell_type": "markdown",
      "metadata": {
        "id": "k7ji658Qj3fE"
      },
      "source": [
        "Como é possível analisar: \n",
        "\n",
        "*   **created_at** e **last_move_at** apresentam o grau de correlação máximo.\n",
        "*   **white_rating** e **black_rating** têm correlação elevada, o que faz sentido, o jogo prioriza dar matchup de jogadores com rating semelhante\n",
        "*   **opening_ply** tem um bocado de correlação com os ratings\n",
        "\n",
        "\n"
      ]
    },
    {
      "cell_type": "markdown",
      "metadata": {
        "id": "cTJO4f33k7Cm"
      },
      "source": [
        "# **Pré-Processamento**"
      ]
    },
    {
      "cell_type": "markdown",
      "metadata": {
        "id": "kbrgqJqYuzqH"
      },
      "source": [
        "Remove-se os dados com que não vamos trabalhar.\n",
        "\n",
        "O objetivo do trabalho é prever quem é o vencedor de uma partida de xadrex, ou então se a partida resultou em empate, através dos movimentos que os jogadores realizam ao longo do jogo.\n",
        "\n",
        "Removeu-se as seguintes features com o objetivo de desenvolver o melhor modelo de machine learning:\n",
        "\n",
        "*   **id**: Não tem nenhum impacto na partida\n",
        "*   **rated**: Em príncipio não tem nenhum impacto na partida\n",
        "*   **created_at** & **last_move_at**: Não tem nenhum impacto na partida\n",
        "*   **turns**: Produz um modelo que é contra produtivo aos nossos objetivos, pois pelo número de turnos torna-se bastante fácil prever o resultado, visto que numa partida começa sempre o jogador das peças brancas. Por exemplo, numa partida que acabou em xeque-mate, se o número de turnos for ímpar, 13 por exemplo, foi o jogador das peças brancas o último a jogar, portanto presume-se que haja uma maior probabilidade de ter sido ele a ganhar. Se for um número par de turnos foi o jogador das peças pretas o último a jogar e é ele o presumido winner.\n",
        "*   **victory_status** & **increment code**: Não nos ajuda a descobrir quem é o vencedor\n",
        "*   **white_id** & **black_id**: Não nos interessa saber quem é o jogador\n",
        "*   **moves**: Em príncipio, pelo mesmo raciocínio que levou a retirar a feature 'turns', também não vai ajudar no modelo, mas também porque no formato em que está é difícil aprender algo com os dados. É preciso estudar alguma forma de restruturar os dados para os melhor podermos usar na aprendizagem supervisionada. \n",
        "\n",
        "\n",
        "\n",
        "\n",
        "\n",
        "\n",
        "\n",
        "\n"
      ]
    },
    {
      "cell_type": "code",
      "metadata": {
        "id": "TZlr8dzEcALy"
      },
      "source": [
        "X = cd.copy()\n",
        "\n",
        "y = X['winner']\n",
        "\n",
        "#Drop the Attrition_Flag Column\n",
        "X = X.drop(['winner',\"id\",'rated','created_at', 'last_move_at', 'turns','victory_status','increment_code','white_id','black_id','moves'], axis=1)\n",
        "X.columns"
      ],
      "execution_count": null,
      "outputs": []
    },
    {
      "cell_type": "markdown",
      "metadata": {
        "id": "QmapVJVv39Bz"
      },
      "source": [
        "Copiamos a coluna 'winner' para uma varíavel *y* e de seguida realizamos uma operação de label enconding, que passa os valores de um tipo de variável categórica para um valor númerico. Assim conseguimos usar essa varíavel como target do modelo de ML."
      ]
    },
    {
      "cell_type": "code",
      "metadata": {
        "id": "B8CNC7PxcALy"
      },
      "source": [
        "le = LabelEncoder()\n",
        "y = le.fit_transform(y)\n",
        "y = pd.DataFrame({'winner': y})"
      ],
      "execution_count": 119,
      "outputs": []
    },
    {
      "cell_type": "markdown",
      "metadata": {
        "id": "18tCTI9X-1XS"
      },
      "source": [
        "Converte-se as features do tipo categório para variáveis fictícias (dummy variable) que indica a presença ou ausência de algum efeito categórico que possa ter impacto na feature 'winner'."
      ]
    },
    {
      "cell_type": "code",
      "metadata": {
        "id": "1NehJOL-cALz"
      },
      "source": [
        "X = pd.get_dummies(X, columns=['opening_eco','opening_name'],drop_first=True)"
      ],
      "execution_count": null,
      "outputs": []
    },
    {
      "cell_type": "markdown",
      "metadata": {
        "id": "RnA0z-B9lGXQ"
      },
      "source": [
        "### **Dividir o dataset em dados de treino e de teste**\n"
      ]
    },
    {
      "cell_type": "code",
      "metadata": {
        "id": "uVjcSCavjM6Q"
      },
      "source": [
        "from sklearn import preprocessing\n",
        "X_input = preprocessing.scale(X)"
      ],
      "execution_count": 242,
      "outputs": []
    },
    {
      "cell_type": "code",
      "metadata": {
        "id": "4foSnA5tjAP7"
      },
      "source": [
        "from sklearn.model_selection import train_test_split\n",
        "\n",
        "X_train, X_test, y_train, y_test = train_test_split(X_input, y, test_size= 0.2, random_state=1234)"
      ],
      "execution_count": 244,
      "outputs": []
    },
    {
      "cell_type": "markdown",
      "metadata": {
        "id": "5ktVFSciCgWd"
      },
      "source": [
        "Como observado no resultado abaixo a varíavel de predição, 'winner', apresenta uma má representação das classes existentes, com o caso extremo do empate a representar só 4.59% dos dados"
      ]
    },
    {
      "cell_type": "code",
      "metadata": {
        "id": "CnKBXBncC4Un"
      },
      "source": [
        "np.unique(y_train, return_counts=True)\n",
        "unique_values, abs_freqs = np.unique(y_train, return_counts=True)\n",
        "relative_freqs = abs_freqs/(sum(abs_freqs)) * 100\n",
        "print (relative_freqs)"
      ],
      "execution_count": null,
      "outputs": []
    },
    {
      "cell_type": "code",
      "metadata": {
        "id": "2KOw0WBPCFWR"
      },
      "source": [
        "y_train.value_counts()"
      ],
      "execution_count": null,
      "outputs": []
    },
    {
      "cell_type": "markdown",
      "metadata": {
        "id": "E41zNIscN3il"
      },
      "source": [
        "Divisão do dataset de forma equitativa de classes da variável de interesse *winner*.\n",
        "\n",
        "Com recurso à técnica de oversampling *SMOTE* populamos os dados em minoria para não correr o risco de darmos overfitting dos dados com o uso de random oversampling.\n",
        "\n",
        "Aplicada a técnica, verifica-se que cada classe apresenta-se nos dados de treino e de teste na mesma quantidade de vezes "
      ]
    },
    {
      "cell_type": "code",
      "metadata": {
        "id": "JOliEet5cALz"
      },
      "source": [
        "from imblearn.over_sampling import SMOTE\n",
        "\n",
        "sm = SMOTE(random_state=1234)\n",
        "\n",
        "X_smote, y_smote = sm.fit_resample(X_train, y_train)\n",
        "\n",
        "print(f'''Shape of X before SMOTE: {X.shape}\n",
        "Shape of X after SMOTE: {X_smote.shape}''')\n",
        "\n",
        "print('\\nBalance of positive and negative classes (%):')\n",
        "np.unique(y_smote, return_counts=True)\n",
        "unique_values, abs_freqs = np.unique(y_smote, return_counts=True)\n",
        "relative_freqs = abs_freqs/(sum(abs_freqs)) * 100\n",
        "print (relative_freqs)"
      ],
      "execution_count": null,
      "outputs": []
    },
    {
      "cell_type": "markdown",
      "metadata": {
        "id": "ayuxBBWnPrw9"
      },
      "source": [
        "# **Construção de Modelos**"
      ]
    },
    {
      "cell_type": "markdown",
      "metadata": {
        "id": "1eng4TPHEpxv"
      },
      "source": [
        "**Biblioteca dos modelos de aprendizagem de machine learning**"
      ]
    },
    {
      "cell_type": "code",
      "metadata": {
        "id": "VZZzzS3ncAL0"
      },
      "source": [
        "# Import ML Libraries\n",
        "from sklearn.linear_model import SGDClassifier\n",
        "from sklearn.neighbors import KNeighborsClassifier\n",
        "from sklearn.ensemble import RandomForestClassifier\n",
        "from sklearn.svm import SVC\n",
        "from sklearn.naive_bayes import GaussianNB\n",
        "from sklearn.tree import DecisionTreeClassifier\n",
        "from sklearn.linear_model import LogisticRegression\n",
        "\n",
        "classifiers = [[RandomForestClassifier(),'Random Forest'], \n",
        "    [KNeighborsClassifier(), 'K-Nearest Neighbours'], [SGDClassifier(),'SGD Classifier'], [SVC(),'SVC'],\n",
        "              [GaussianNB(),'GaussianNB'],[DecisionTreeClassifier(),'Decision Tree Classifier'],[LogisticRegression(),'Logistic Regression']]"
      ],
      "execution_count": 40,
      "outputs": []
    },
    {
      "cell_type": "markdown",
      "metadata": {
        "id": "e39QoDg2OuSS"
      },
      "source": [
        "Previsão de classes para o target *winner* utilizando os modelos acima declarados\n",
        "\n"
      ]
    },
    {
      "cell_type": "code",
      "metadata": {
        "id": "f5E5gsy7cAL1"
      },
      "source": [
        "def predict(X_smote, y_smote,X_test,y_test):\n",
        "    for cls in classifiers:\n",
        "        model = cls[0]\n",
        "        model.fit(X_smote, y_smote)\n",
        "\n",
        "        y_pred = model.predict(X_test)\n",
        "        print(cls[1])\n",
        "        print ('Confusion Matrix:')\n",
        "        print(confusion_matrix(y_test, y_pred))\n",
        "        print(\"Accuracy : \", accuracy_score(y_test, y_pred) *  100)"
      ],
      "execution_count": null,
      "outputs": []
    },
    {
      "cell_type": "markdown",
      "metadata": {
        "id": "VUT8af33PEam"
      },
      "source": [
        "Apresentação da Matriz de Confusão, e da métrica de *Accuracy*"
      ]
    },
    {
      "cell_type": "code",
      "metadata": {
        "id": "YRD5VMCScAL1"
      },
      "source": [
        "predict(X_smote, y_smote,X_test,y_test)"
      ],
      "execution_count": null,
      "outputs": []
    },
    {
      "cell_type": "markdown",
      "metadata": {
        "id": "GfDMHJmgkR83"
      },
      "source": [
        "#Construção de Modelos II"
      ]
    },
    {
      "cell_type": "markdown",
      "metadata": {
        "id": "1DCsvgBUkbUD"
      },
      "source": [
        "Treinar modelos de base com vários classificadores no conjunto de dados de treino. Avaliar cada um destes modelos com validação cruzada."
      ]
    },
    {
      "cell_type": "code",
      "metadata": {
        "id": "WLjQ2e76DZTE"
      },
      "source": [
        "from sklearn.model_selection import cross_val_score\n",
        "from sklearn.model_selection import GridSearchCV\n",
        "from sklearn.neighbors import KNeighborsClassifier\n",
        "from sklearn import svm\n",
        "from sklearn.ensemble import RandomForestClassifier\n",
        "from sklearn.ensemble import AdaBoostClassifier\n",
        "from sklearn.feature_selection import SelectPercentile, f_classif\n",
        "from sklearn.model_selection import learning_curve"
      ],
      "execution_count": 127,
      "outputs": []
    },
    {
      "cell_type": "markdown",
      "metadata": {
        "id": "cXUc9iwYkd8j"
      },
      "source": [
        "##K-Neighbors"
      ]
    },
    {
      "cell_type": "code",
      "metadata": {
        "id": "ht31zYdIkVd9"
      },
      "source": [
        "from sklearn.model_selection import cross_val_score\n",
        "\n",
        "from sklearn.neighbors import KNeighborsClassifier\n",
        "\n",
        "knn_model = KNeighborsClassifier()\n",
        "\n",
        "pecc_knn = cross_val_score(knn_model, X_train, y_train, cv = 5).mean()\n",
        "pecc_knn"
      ],
      "execution_count": null,
      "outputs": []
    },
    {
      "cell_type": "markdown",
      "metadata": {
        "id": "OxcrV0YAkuSQ"
      },
      "source": [
        "## Support Vector Machine"
      ]
    },
    {
      "cell_type": "code",
      "metadata": {
        "id": "fMI_zN8ikx8C"
      },
      "source": [
        "from sklearn import svm\n",
        "\n",
        "svm_model = svm.SVC(gamma=0.001, C=10.)\n",
        "\n",
        "pecc_svm = cross_val_score(svm_model, X_train, y_train, cv = 5).mean()\n",
        "pecc_svm"
      ],
      "execution_count": null,
      "outputs": []
    },
    {
      "cell_type": "markdown",
      "metadata": {
        "id": "gH2XdnVDk6EI"
      },
      "source": [
        "## Random Forests"
      ]
    },
    {
      "cell_type": "code",
      "metadata": {
        "id": "mlAY8tajk9WB"
      },
      "source": [
        "from sklearn.ensemble import RandomForestClassifier\n",
        "\n",
        "rf_model = RandomForestClassifier(n_estimators=100)\n",
        "\n",
        "pecc_rf = cross_val_score(rf_model, X_train, y_train, cv = 5).mean()\n",
        "pecc_rf"
      ],
      "execution_count": null,
      "outputs": []
    },
    {
      "cell_type": "markdown",
      "metadata": {
        "id": "cO3FeDmKlChe"
      },
      "source": [
        "## Adaptive Boosting"
      ]
    },
    {
      "cell_type": "code",
      "metadata": {
        "id": "jDd_88dwlQxC"
      },
      "source": [
        "from sklearn.ensemble import AdaBoostClassifier\n",
        "\n",
        "ada_tree = AdaBoostClassifier(n_estimators=100)\n",
        "\n",
        "pecc_ada = cross_val_score(ada_tree, X_smote, y_smote, cv = 5).mean()\n",
        "pecc_ada"
      ],
      "execution_count": null,
      "outputs": []
    },
    {
      "cell_type": "markdown",
      "metadata": {
        "id": "6EifV3iclkJm"
      },
      "source": [
        "##Seleção de Atributos (ANOVA)"
      ]
    },
    {
      "cell_type": "code",
      "metadata": {
        "id": "KRCQhBQEl26b"
      },
      "source": [
        "from sklearn.feature_selection import SelectPercentile, f_classif\n",
        "\n",
        "selector = SelectPercentile(f_classif, percentile=50)\n",
        "filt_univ = selector.fit_transform(X_train, y_train)\n",
        "print(filt_univ.shape)"
      ],
      "execution_count": null,
      "outputs": []
    },
    {
      "cell_type": "code",
      "metadata": {
        "id": "xzvj8BehmCgH",
        "colab": {
          "base_uri": "https://localhost:8080/"
        },
        "outputId": "f2cddc54-a73d-4799-8f57-9b8ee55af76d"
      },
      "source": [
        "cross_val_score(knn_model, filt_univ, y_train, cv = 5).mean()"
      ],
      "execution_count": null,
      "outputs": [
        {
          "output_type": "execute_result",
          "data": {
            "text/plain": [
              "0.4777633516337677"
            ]
          },
          "metadata": {
            "tags": []
          },
          "execution_count": 32
        }
      ]
    },
    {
      "cell_type": "code",
      "metadata": {
        "id": "rEYCWT0HmEAp",
        "colab": {
          "base_uri": "https://localhost:8080/"
        },
        "outputId": "2d1971cb-cdb8-4713-822a-a1dc38a04b1c"
      },
      "source": [
        "cross_val_score(svm_model, filt_univ, y_train, cv = 5).mean()"
      ],
      "execution_count": null,
      "outputs": [
        {
          "output_type": "execute_result",
          "data": {
            "text/plain": [
              "0.48508858248466813"
            ]
          },
          "metadata": {
            "tags": []
          },
          "execution_count": 33
        }
      ]
    },
    {
      "cell_type": "code",
      "metadata": {
        "id": "EuJOBgWfmErD",
        "colab": {
          "base_uri": "https://localhost:8080/"
        },
        "outputId": "592dae1d-7026-462b-d005-78b244c626ed"
      },
      "source": [
        "cross_val_score(rf_model, filt_univ, y_train, cv = 5).mean()"
      ],
      "execution_count": null,
      "outputs": [
        {
          "output_type": "execute_result",
          "data": {
            "text/plain": [
              "0.582629534945448"
            ]
          },
          "metadata": {
            "tags": []
          },
          "execution_count": 36
        }
      ]
    },
    {
      "cell_type": "code",
      "metadata": {
        "id": "YwU9k9w4mLkX",
        "colab": {
          "base_uri": "https://localhost:8080/"
        },
        "outputId": "a302a184-4759-4864-8567-04ccd7f58d07"
      },
      "source": [
        "cross_val_score(ada_tree, filt_univ, y_train, cv = 5).mean()"
      ],
      "execution_count": null,
      "outputs": [
        {
          "output_type": "execute_result",
          "data": {
            "text/plain": [
              "0.6087895450037021"
            ]
          },
          "metadata": {
            "tags": []
          },
          "execution_count": 37
        }
      ]
    },
    {
      "cell_type": "markdown",
      "metadata": {
        "id": "8f6cDvHBmrvk"
      },
      "source": [
        "##Otimização de Hiperparâmetros"
      ]
    },
    {
      "cell_type": "code",
      "metadata": {
        "id": "iCFZhSuZndfT"
      },
      "source": [
        "from sklearn.model_selection import GridSearchCV"
      ],
      "execution_count": null,
      "outputs": []
    },
    {
      "cell_type": "markdown",
      "metadata": {
        "id": "lPPCEasinWnk"
      },
      "source": [
        "## K-Neighbors"
      ]
    },
    {
      "cell_type": "code",
      "metadata": {
        "id": "B1WA8lbtnh-3"
      },
      "source": [
        "knn_parameters = {'n_neighbors':[3,5,11,19], 'weights':['uniform', 'distance'], 'metric':['euclidean', 'manhattan']}\n",
        "\n",
        "knn_model_d = KNeighborsClassifier()\n",
        "opt_knn_model_d = GridSearchCV(knn_model_d, knn_parameters, cv=5)\n",
        "\n",
        "opt_knn_model_d.fit(X_train, y_train)\n",
        "print (opt_knn_model_d.best_estimator_)"
      ],
      "execution_count": null,
      "outputs": []
    },
    {
      "cell_type": "code",
      "metadata": {
        "id": "SfdX-kbbn4Mx"
      },
      "source": [
        "pecc_opt_knn = cross_val_score(opt_knn_model_d, X_train, y_train, cv = 5).mean()\n",
        "pecc_opt_knn"
      ],
      "execution_count": null,
      "outputs": []
    },
    {
      "cell_type": "markdown",
      "metadata": {
        "id": "GCLKCRNvnUVF"
      },
      "source": [
        "## SVM"
      ]
    },
    {
      "cell_type": "code",
      "metadata": {
        "id": "-IgAAtjXmy1I"
      },
      "source": [
        "svm_parameters = {'C':[1, 10, 100], 'gamma':[0.01, 0.001]}\n",
        "\n",
        "svm_model_d = svm.SVC()\n",
        "opt_svm_model_d = GridSearchCV(svm_model_d, svm_parameters)\n",
        "\n",
        "opt_svm_model_d.fit(X_train, y_train)\n",
        "print (opt_svm_model_d.best_estimator_)"
      ],
      "execution_count": null,
      "outputs": []
    },
    {
      "cell_type": "code",
      "metadata": {
        "id": "vD14QJT8nCWQ"
      },
      "source": [
        "pecc_opt_svm = cross_val_score(opt_svm_model_d, X_train, y_train, cv = 5).mean()\n",
        "pecc_opt_svm"
      ],
      "execution_count": null,
      "outputs": []
    },
    {
      "cell_type": "markdown",
      "metadata": {
        "id": "D3GxLfWBrvh4"
      },
      "source": [
        "## Random Forest"
      ]
    },
    {
      "cell_type": "code",
      "metadata": {
        "id": "XLTr8gBbrxiA"
      },
      "source": [
        "param_grid = { \n",
        "    'n_estimators': [200, 500],\n",
        "    'max_features': ['auto', 'sqrt', 'log2'],\n",
        "    'max_depth' : [4,5,6,7,8],\n",
        "    'criterion' :['gini', 'entropy']\n",
        "}\n",
        "\n",
        "rf_model_d = RandomForestClassifier(random_state=1234)\n",
        "\n",
        "opt_rf_model_d = GridSearchCV(rf_model_d, param_grid=param_grid, cv= 2)\n",
        "\n",
        "opt_rf_model_d.fit(X_smote, y_smote)\n",
        "print (opt_rf_model_d.best_estimator_)"
      ],
      "execution_count": null,
      "outputs": []
    },
    {
      "cell_type": "code",
      "metadata": {
        "id": "6TxWKqKD31R9"
      },
      "source": [
        "pecc_opt_rf = cross_val_score(opt_rf_model_d, X_smote, y_smote, cv = 2).mean()"
      ],
      "execution_count": null,
      "outputs": []
    },
    {
      "cell_type": "code",
      "metadata": {
        "id": "aiDXAbbaDHM0"
      },
      "source": [
        "pecc_opt_rf"
      ],
      "execution_count": null,
      "outputs": []
    },
    {
      "cell_type": "markdown",
      "metadata": {
        "id": "Nb7t-vx7sbfL"
      },
      "source": [
        "## AdaBoosting"
      ]
    },
    {
      "cell_type": "code",
      "metadata": {
        "id": "8pPeR2QcLm76"
      },
      "source": [
        "ada_model_d = AdaBoostClassifier(base_estimator=DecisionTreeClassifier())\n",
        "\n",
        "parameters = {\n",
        "              'base_estimator__max_depth':[i for i in range(2,5,8)],\n",
        "              'base_estimator__min_samples_leaf':[5,10],\n",
        "              'n_estimators':[10,50,250,1000],\n",
        "              'learning_rate':[0.01,0.1]}\n",
        "\n",
        "opt_ada_model_d = GridSearchCV(ada_model_d, parameters)\n",
        "opt_ada_model_d.fit(X_smote, y_smote)\n",
        "print (opt_ada_model_d.best_estimator_)"
      ],
      "execution_count": null,
      "outputs": []
    },
    {
      "cell_type": "markdown",
      "metadata": {
        "id": "camDsZN8hSSF"
      },
      "source": [
        "Parameters taken from:\n",
        "(https://stackoverflow.com/questions/32210569/using-gridsearchcv-with-adaboost-and-decisiontreeclassifier)"
      ]
    },
    {
      "cell_type": "code",
      "metadata": {
        "id": "-aMuYonYjj-J"
      },
      "source": [
        "opt_ada_model_acc = cross_val_score(opt_ada_model_d, X_smote, y_smote, cv = 2).mean()"
      ],
      "execution_count": 17,
      "outputs": []
    },
    {
      "cell_type": "code",
      "metadata": {
        "id": "G-p6s7MJY93k"
      },
      "source": [
        "opt_ada_model_acc"
      ],
      "execution_count": null,
      "outputs": []
    },
    {
      "cell_type": "markdown",
      "metadata": {
        "id": "MjMVoSOkpYSC"
      },
      "source": [
        "## Implementação da Neural Network\n",
        "https://machinelearningmastery.com/neural-network-models-for-combined-classification-and-regression/\n",
        "(Classification Model)"
      ]
    },
    {
      "cell_type": "code",
      "metadata": {
        "id": "jlB3FjxIEeM1"
      },
      "source": [
        "# first neural network with keras tutorial\n",
        "from keras.models import Sequential\n",
        "from keras.layers import Dense"
      ],
      "execution_count": 133,
      "outputs": []
    },
    {
      "cell_type": "code",
      "metadata": {
        "id": "Vq2nIOGIgQKO"
      },
      "source": [
        "from numpy import unique\n",
        "from numpy import argmax"
      ],
      "execution_count": 160,
      "outputs": []
    },
    {
      "cell_type": "code",
      "metadata": {
        "id": "F1LnE2KofGj8"
      },
      "source": [
        "model = Sequential()\n",
        "model.add(Dense(100, input_dim=1843, activation='relu', kernel_initializer='he_normal'))\n",
        "model.add(Dense(50, activation='relu', kernel_initializer='he_normal'))\n",
        "model.add(Dense(3, activation='softmax'))"
      ],
      "execution_count": 215,
      "outputs": []
    },
    {
      "cell_type": "code",
      "metadata": {
        "id": "egvPQpgMfP8i"
      },
      "source": [
        "model.compile(loss='sparse_categorical_crossentropy', optimizer='adam', metrics=['accuracy'])"
      ],
      "execution_count": 222,
      "outputs": []
    },
    {
      "cell_type": "code",
      "metadata": {
        "id": "1uR3jJjifSSp"
      },
      "source": [
        "model.fit(X_smote, y_smote, epochs=25, batch_size=150, verbose=2)"
      ],
      "execution_count": null,
      "outputs": []
    },
    {
      "cell_type": "code",
      "metadata": {
        "id": "ShG4hmsCf9xk"
      },
      "source": [
        "yhat = model.predict(X_test)\n",
        "yhat = argmax(yhat, axis=-1).astype('int')\n",
        "acc = accuracy_score(y_test, yhat)\n",
        "print('Accuracy: %.3f' % acc)"
      ],
      "execution_count": null,
      "outputs": []
    }
  ]
}